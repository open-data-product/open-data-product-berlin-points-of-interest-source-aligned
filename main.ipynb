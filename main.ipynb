{
 "cells": [
  {
   "cell_type": "markdown",
   "id": "47140531",
   "metadata": {},
   "source": [
    "# Berlin Points of Interest (source-aligned) - Sample Notebook"
   ]
  },
  {
   "cell_type": "markdown",
   "id": "3ad0d72c",
   "metadata": {},
   "source": [
    "## Explore data"
   ]
  },
  {
   "cell_type": "code",
   "execution_count": 1,
   "id": "8c7383b1",
   "metadata": {
    "execution": {
     "iopub.execute_input": "2025-10-28T22:54:17.038183Z",
     "iopub.status.busy": "2025-10-28T22:54:17.037939Z",
     "iopub.status.idle": "2025-10-28T22:54:17.049864Z",
     "shell.execute_reply": "2025-10-28T22:54:17.049172Z"
    }
   },
   "outputs": [],
   "source": [
    "import pandas as pd\n",
    "\n",
    "# Read csv file\n",
    "dataframe = pd.read_csv(\n",
    "    \"./data/03-gold/berlin-points-of-interest-2025-10/berlin-points-of-interest-universities-details.csv\"\n",
    ")"
   ]
  },
  {
   "cell_type": "code",
   "execution_count": 2,
   "id": "32971e60",
   "metadata": {
    "execution": {
     "iopub.execute_input": "2025-10-28T22:54:17.051904Z",
     "iopub.status.busy": "2025-10-28T22:54:17.051746Z",
     "iopub.status.idle": "2025-10-28T22:54:17.071733Z",
     "shell.execute_reply": "2025-10-28T22:54:17.071249Z"
    }
   },
   "outputs": [
    {
     "data": {
      "text/html": [
       "<div>\n",
       "<style scoped>\n",
       "    .dataframe tbody tr th:only-of-type {\n",
       "        vertical-align: middle;\n",
       "    }\n",
       "\n",
       "    .dataframe tbody tr th {\n",
       "        vertical-align: top;\n",
       "    }\n",
       "\n",
       "    .dataframe thead th {\n",
       "        text-align: right;\n",
       "    }\n",
       "</style>\n",
       "<table border=\"1\" class=\"dataframe\">\n",
       "  <thead>\n",
       "    <tr style=\"text-align: right;\">\n",
       "      <th></th>\n",
       "      <th>id</th>\n",
       "      <th>lat</th>\n",
       "      <th>lon</th>\n",
       "      <th>name</th>\n",
       "      <th>street</th>\n",
       "      <th>zip_code</th>\n",
       "      <th>city</th>\n",
       "    </tr>\n",
       "  </thead>\n",
       "  <tbody>\n",
       "    <tr>\n",
       "      <th>0</th>\n",
       "      <td>278540049</td>\n",
       "      <td>52.553716</td>\n",
       "      <td>13.359612</td>\n",
       "      <td>Forum Seestraße der BHT</td>\n",
       "      <td>Seestraße 64</td>\n",
       "      <td>13347.0</td>\n",
       "      <td>Berlin</td>\n",
       "    </tr>\n",
       "    <tr>\n",
       "      <th>1</th>\n",
       "      <td>892568035</td>\n",
       "      <td>52.512852</td>\n",
       "      <td>13.389271</td>\n",
       "      <td>Hertie School</td>\n",
       "      <td>Friedrichstraße 180</td>\n",
       "      <td>10117.0</td>\n",
       "      <td>Berlin</td>\n",
       "    </tr>\n",
       "    <tr>\n",
       "      <th>2</th>\n",
       "      <td>1425160484</td>\n",
       "      <td>52.460953</td>\n",
       "      <td>13.293940</td>\n",
       "      <td>FB Veterinärmedizin</td>\n",
       "      <td>Koserstraße 20</td>\n",
       "      <td>14195.0</td>\n",
       "      <td>Berlin</td>\n",
       "    </tr>\n",
       "    <tr>\n",
       "      <th>3</th>\n",
       "      <td>1425160485</td>\n",
       "      <td>52.461609</td>\n",
       "      <td>13.293786</td>\n",
       "      <td>FB Geschichts- und Kulturwissenschaften</td>\n",
       "      <td>Koserstraße 20</td>\n",
       "      <td>14195.0</td>\n",
       "      <td>Berlin</td>\n",
       "    </tr>\n",
       "    <tr>\n",
       "      <th>4</th>\n",
       "      <td>1425160486</td>\n",
       "      <td>52.461283</td>\n",
       "      <td>13.294202</td>\n",
       "      <td>FB Geschichts- und Kulturwissenschaften</td>\n",
       "      <td>Koserstraße 20</td>\n",
       "      <td>14195.0</td>\n",
       "      <td>Berlin</td>\n",
       "    </tr>\n",
       "  </tbody>\n",
       "</table>\n",
       "</div>"
      ],
      "text/plain": [
       "           id        lat        lon  ...               street zip_code    city\n",
       "0   278540049  52.553716  13.359612  ...         Seestraße 64  13347.0  Berlin\n",
       "1   892568035  52.512852  13.389271  ...  Friedrichstraße 180  10117.0  Berlin\n",
       "2  1425160484  52.460953  13.293940  ...       Koserstraße 20  14195.0  Berlin\n",
       "3  1425160485  52.461609  13.293786  ...       Koserstraße 20  14195.0  Berlin\n",
       "4  1425160486  52.461283  13.294202  ...       Koserstraße 20  14195.0  Berlin\n",
       "\n",
       "[5 rows x 7 columns]"
      ]
     },
     "execution_count": 2,
     "metadata": {},
     "output_type": "execute_result"
    }
   ],
   "source": [
    "# Display 5 first rows\n",
    "dataframe.head()"
   ]
  },
  {
   "cell_type": "code",
   "execution_count": 3,
   "id": "b0211145",
   "metadata": {
    "execution": {
     "iopub.execute_input": "2025-10-28T22:54:17.073210Z",
     "iopub.status.busy": "2025-10-28T22:54:17.073085Z",
     "iopub.status.idle": "2025-10-28T22:54:17.079024Z",
     "shell.execute_reply": "2025-10-28T22:54:17.078516Z"
    }
   },
   "outputs": [
    {
     "name": "stdout",
     "output_type": "stream",
     "text": [
      "<class 'pandas.core.frame.DataFrame'>\n",
      "RangeIndex: 37 entries, 0 to 36\n",
      "Data columns (total 7 columns):\n",
      " #   Column    Non-Null Count  Dtype  \n",
      "---  ------    --------------  -----  \n",
      " 0   id        37 non-null     int64  \n",
      " 1   lat       37 non-null     float64\n",
      " 2   lon       37 non-null     float64\n",
      " 3   name      37 non-null     object \n",
      " 4   street    32 non-null     object \n",
      " 5   zip_code  33 non-null     float64\n",
      " 6   city      33 non-null     object \n",
      "dtypes: float64(3), int64(1), object(3)\n",
      "memory usage: 2.2+ KB\n"
     ]
    }
   ],
   "source": [
    "# Display dataframe info\n",
    "dataframe.info()"
   ]
  },
  {
   "cell_type": "code",
   "execution_count": 4,
   "id": "a97caa37",
   "metadata": {
    "execution": {
     "iopub.execute_input": "2025-10-28T22:54:17.080203Z",
     "iopub.status.busy": "2025-10-28T22:54:17.080126Z",
     "iopub.status.idle": "2025-10-28T22:54:17.087651Z",
     "shell.execute_reply": "2025-10-28T22:54:17.087315Z"
    }
   },
   "outputs": [
    {
     "data": {
      "text/html": [
       "<div>\n",
       "<style scoped>\n",
       "    .dataframe tbody tr th:only-of-type {\n",
       "        vertical-align: middle;\n",
       "    }\n",
       "\n",
       "    .dataframe tbody tr th {\n",
       "        vertical-align: top;\n",
       "    }\n",
       "\n",
       "    .dataframe thead th {\n",
       "        text-align: right;\n",
       "    }\n",
       "</style>\n",
       "<table border=\"1\" class=\"dataframe\">\n",
       "  <thead>\n",
       "    <tr style=\"text-align: right;\">\n",
       "      <th></th>\n",
       "      <th>id</th>\n",
       "      <th>lat</th>\n",
       "      <th>lon</th>\n",
       "      <th>zip_code</th>\n",
       "    </tr>\n",
       "  </thead>\n",
       "  <tbody>\n",
       "    <tr>\n",
       "      <th>count</th>\n",
       "      <td>3.700000e+01</td>\n",
       "      <td>37.000000</td>\n",
       "      <td>37.000000</td>\n",
       "      <td>33.000000</td>\n",
       "    </tr>\n",
       "    <tr>\n",
       "      <th>mean</th>\n",
       "      <td>5.429607e+09</td>\n",
       "      <td>52.494256</td>\n",
       "      <td>13.375848</td>\n",
       "      <td>12081.151515</td>\n",
       "    </tr>\n",
       "    <tr>\n",
       "      <th>std</th>\n",
       "      <td>3.550507e+09</td>\n",
       "      <td>0.043146</td>\n",
       "      <td>0.085438</td>\n",
       "      <td>1655.282909</td>\n",
       "    </tr>\n",
       "    <tr>\n",
       "      <th>min</th>\n",
       "      <td>2.785400e+08</td>\n",
       "      <td>52.388848</td>\n",
       "      <td>13.119794</td>\n",
       "      <td>10117.000000</td>\n",
       "    </tr>\n",
       "    <tr>\n",
       "      <th>25%</th>\n",
       "      <td>2.175035e+09</td>\n",
       "      <td>52.457242</td>\n",
       "      <td>13.315354</td>\n",
       "      <td>10367.000000</td>\n",
       "    </tr>\n",
       "    <tr>\n",
       "      <th>50%</th>\n",
       "      <td>4.868588e+09</td>\n",
       "      <td>52.506224</td>\n",
       "      <td>13.387713</td>\n",
       "      <td>12165.000000</td>\n",
       "    </tr>\n",
       "    <tr>\n",
       "      <th>75%</th>\n",
       "      <td>9.290845e+09</td>\n",
       "      <td>52.520307</td>\n",
       "      <td>13.399404</td>\n",
       "      <td>13507.000000</td>\n",
       "    </tr>\n",
       "    <tr>\n",
       "      <th>max</th>\n",
       "      <td>1.261809e+10</td>\n",
       "      <td>52.581926</td>\n",
       "      <td>13.534354</td>\n",
       "      <td>14482.000000</td>\n",
       "    </tr>\n",
       "  </tbody>\n",
       "</table>\n",
       "</div>"
      ],
      "text/plain": [
       "                 id        lat        lon      zip_code\n",
       "count  3.700000e+01  37.000000  37.000000     33.000000\n",
       "mean   5.429607e+09  52.494256  13.375848  12081.151515\n",
       "std    3.550507e+09   0.043146   0.085438   1655.282909\n",
       "min    2.785400e+08  52.388848  13.119794  10117.000000\n",
       "25%    2.175035e+09  52.457242  13.315354  10367.000000\n",
       "50%    4.868588e+09  52.506224  13.387713  12165.000000\n",
       "75%    9.290845e+09  52.520307  13.399404  13507.000000\n",
       "max    1.261809e+10  52.581926  13.534354  14482.000000"
      ]
     },
     "execution_count": 4,
     "metadata": {},
     "output_type": "execute_result"
    }
   ],
   "source": [
    "# Describe dataframe\n",
    "dataframe.describe()"
   ]
  }
 ],
 "metadata": {
  "language_info": {
   "codemirror_mode": {
    "name": "ipython",
    "version": 3
   },
   "file_extension": ".py",
   "mimetype": "text/x-python",
   "name": "python",
   "nbconvert_exporter": "python",
   "pygments_lexer": "ipython3",
   "version": "3.13.0"
  }
 },
 "nbformat": 4,
 "nbformat_minor": 5
}
